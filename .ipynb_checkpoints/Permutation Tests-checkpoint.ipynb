{
 "cells": [
  {
   "cell_type": "code",
   "execution_count": 41,
   "metadata": {
    "collapsed": false
   },
   "outputs": [],
   "source": [
    "import nltk\n",
    "import datascience\n",
    "import csv\n",
    "from datascience import *\n",
    "from matplotlib import pyplot as plt\n",
    "import numpy as np\n",
    "from sentiment_analysis import classifier\n",
    "from matplotlib import pyplot as plt\n",
    "%matplotlib inline"
   ]
  },
  {
   "cell_type": "code",
   "execution_count": 2,
   "metadata": {
    "collapsed": true
   },
   "outputs": [],
   "source": [
    "# classification function\n",
    "def classify_candidates(candidate_name):\n",
    "    posts = []\n",
    "    with open(candidate_name +'.csv', 'r') as f:\n",
    "        reader = csv.reader(f)\n",
    "        for row in reader:\n",
    "            if len(row) > 0:\n",
    "                posts.append(row[0])\n",
    "\n",
    "    classify = classifier()\n",
    "    positive_count = 0\n",
    "    negative_count = 0\n",
    "    for i in posts:\n",
    "        a = classify(i);\n",
    "        if( a == '1'):\n",
    "            positive_count += 1\n",
    "        else:\n",
    "            negative_count += 1\n",
    "    return positive_count, negative_count"
   ]
  },
  {
   "cell_type": "code",
   "execution_count": 4,
   "metadata": {
    "collapsed": false
   },
   "outputs": [],
   "source": [
    "trump_positive, trump_negative = classify_candidates('Trump')\n",
    "clinton_positive, clinton_negative = classify_candidates('Clinton')\n",
    "sanders_positive, sanders_negative = classify_candidates('Sanders')"
   ]
  },
  {
   "cell_type": "code",
   "execution_count": 27,
   "metadata": {
    "collapsed": false
   },
   "outputs": [],
   "source": [
    "trump_negative,trump_positive\n",
    "content = [1]*trump_positive + [0]*trump_negative\n",
    "trump = Table().with_columns(['sentiment', content])"
   ]
  },
  {
   "cell_type": "code",
   "execution_count": 28,
   "metadata": {
    "collapsed": false
   },
   "outputs": [],
   "source": [
    "clinton_negative, clinton_positive\n",
    "content = [1]*clinton_positive + [0]*clinton_negative\n",
    "clinton = Table().with_columns(['sentiment', content])"
   ]
  },
  {
   "cell_type": "code",
   "execution_count": 30,
   "metadata": {
    "collapsed": false
   },
   "outputs": [],
   "source": [
    "sanders_negative, sanders_positive\n",
    "content = [1]*sanders_positive + [0]*sanders_negative\n",
    "sanders = Table().with_columns(['sentiment', content])"
   ]
  },
  {
   "cell_type": "code",
   "execution_count": 36,
   "metadata": {
    "collapsed": false
   },
   "outputs": [],
   "source": [
    "c1 = clinton.sample(min(clinton.num_rows, trump.num_rows, sanders.num_rows), with_replacement=False)\n",
    "t1 = trump.sample(min(clinton.num_rows, trump.num_rows, sanders.num_rows), with_replacement=False)\n",
    "s1 = sanders.sample(min(clinton.num_rows, trump.num_rows, sanders.num_rows), with_replacement=False)"
   ]
  },
  {
   "cell_type": "code",
   "execution_count": 84,
   "metadata": {
    "collapsed": false
   },
   "outputs": [],
   "source": [
    "# choice of statistic = difference between positive and negative tweets\n",
    "# candidate1 - candidate2\n",
    "def permutations(candidate1, candidate2):\n",
    "    table = Table(['candidates'])\n",
    "    range_ = candidate1.num_rows\n",
    "    table['candidates'] = list(candidate1['sentiment']) + list(candidate2['sentiment'])\n",
    "    statistic = []\n",
    "    for i in range(10000):\n",
    "        tmp = table.sample(with_replacement = True)\n",
    "        c1 = tmp['candidates'][:range_]\n",
    "        c2 = tmp['candidates'][range_:]\n",
    "        statistic.append(sum(c1) - sum(c2))\n",
    "    plt.hist(statistic, normed = True)\n",
    "    #print(statistic)\n",
    "    return statistic"
   ]
  },
  {
   "cell_type": "code",
   "execution_count": 90,
   "metadata": {
    "collapsed": false
   },
   "outputs": [],
   "source": [
    "def p_value(distribution, observed_value):\n",
    "    if observed_value < np.median(distribution):\n",
    "        val = np.sum(np.count_nonzero(np.array(distribution) <= observed_value))/len(distribution)\n",
    "        print(\"p-value: \" + str(val))\n",
    "        return val\n",
    "    else:\n",
    "        val = np.sum(np.count_nonzero(np.array(distribution) >= observed_value))/len(distribution)\n",
    "        print(\"p-value: \" + str(val))\n",
    "        return val"
   ]
  },
  {
   "cell_type": "code",
   "execution_count": 99,
   "metadata": {
    "collapsed": false
   },
   "outputs": [
    {
     "name": "stdout",
     "output_type": "stream",
     "text": [
      "p-value: 0.0\n"
     ]
    },
    {
     "data": {
      "text/plain": [
       "[<matplotlib.lines.Line2D at 0x10beec588>]"
      ]
     },
     "execution_count": 99,
     "metadata": {},
     "output_type": "execute_result"
    },
    {
     "data": {
      "image/png": "[encoded data removed]",
      "text/plain": [
       "<matplotlib.figure.Figure at 0x10c86f0f0>"
      ]
     },
     "metadata": {},
     "output_type": "display_data"
    }
   ],
   "source": [
    "#Null hypothesis: There is no difference in the popularity between cadidates. \n",
    "# That means that there is no one candidate who is more popular than the others \n",
    "# (equal number of positive sentiment tweets)\n",
    "\n",
    "# Bernie vs Hillary \n",
    "observed_value = sum(s1['sentiment']) - sum(c1['sentiment']) # Bernie wins - 97\n",
    "p_value(permutations(s1, c1), observed_value)\n",
    "plt.plot([observed_value, observed_value], [0, 0.005], lw = 5)\n",
    "#Conclusion: Berie beats Hillary - result significant"
   ]
  },
  {
   "cell_type": "code",
   "execution_count": 98,
   "metadata": {
    "collapsed": false
   },
   "outputs": [
    {
     "name": "stdout",
     "output_type": "stream",
     "text": [
      "p-value: 0.0\n"
     ]
    },
    {
     "data": {
      "text/plain": [
       "[<matplotlib.lines.Line2D at 0x10cf32e10>]"
      ]
     },
     "execution_count": 98,
     "metadata": {},
     "output_type": "execute_result"
    },
    {
     "data": {
      "image/png": "[encoded data removed]",
      "text/plain": [
       "<matplotlib.figure.Figure at 0x10cf36898>"
      ]
     },
     "metadata": {},
     "output_type": "display_data"
    }
   ],
   "source": [
    "# Trump vs Hillary \n",
    "observed_value = sum(t1['sentiment']) - sum(c1['sentiment']) # Trump wins - 59\n",
    "p_value(permutations(s1, c1), observed_value)\n",
    "plt.plot([observed_value, observed_value], [0, 0.005], lw = 5)\n",
    "#Conclusion: Trump beats Hillary - result significant"
   ]
  },
  {
   "cell_type": "code",
   "execution_count": 104,
   "metadata": {
    "collapsed": false
   },
   "outputs": [
    {
     "name": "stdout",
     "output_type": "stream",
     "text": [
      "p-value: 0.0139\n"
     ]
    },
    {
     "data": {
      "text/plain": [
       "[<matplotlib.lines.Line2D at 0x10d7090f0>]"
      ]
     },
     "execution_count": 104,
     "metadata": {},
     "output_type": "execute_result"
    },
    {
     "data": {
      "image/png": "[encoded data removed]",
      "text/plain": [
       "<matplotlib.figure.Figure at 0x10c86f6d8>"
      ]
     },
     "metadata": {},
     "output_type": "display_data"
    }
   ],
   "source": [
    "# Trump vs Hillary \n",
    "observed_value = sum(s1['sentiment']) - sum(t1['sentiment']) # Trump wins - 34\n",
    "p_value(permutations(s1, t1), observed_value)\n",
    "plt.plot([observed_value, observed_value], [0, 0.005], lw = 5)\n",
    "#Conclusion: Bernie beats Trump - result significant"
   ]
  }
 ],
 "metadata": {
  "kernelspec": {
   "display_name": "Python 3",
   "language": "python",
   "name": "python3"
  },
  "language_info": {
   "codemirror_mode": {
    "name": "ipython",
    "version": 3
   },
   "file_extension": ".py",
   "mimetype": "text/x-python",
   "name": "python",
   "nbconvert_exporter": "python",
   "pygments_lexer": "ipython3",
   "version": "3.4.4"
  }
 },
 "nbformat": 4,
 "nbformat_minor": 0
}

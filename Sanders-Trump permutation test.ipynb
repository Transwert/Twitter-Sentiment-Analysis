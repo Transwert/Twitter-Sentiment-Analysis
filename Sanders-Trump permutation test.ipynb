{
 "cells": [
  {
   "cell_type": "code",
   "execution_count": 120,
   "metadata": {
    "collapsed": false
   },
   "outputs": [],
   "source": [
    "import nltk\n",
    "import datascience\n",
    "import csv\n",
    "from matplotlib import pyplot as plt\n",
    "import numpy as np\n",
    "from sentiment_analysis import classifier\n",
    "from matplotlib import pyplot as plt"
   ]
  },
  {
   "cell_type": "code",
   "execution_count": 16,
   "metadata": {
    "collapsed": true
   },
   "outputs": [],
   "source": [
    "# classification function\n",
    "def classify_candidates(candidate_name):\n",
    "    posts = []\n",
    "    with open(candidate_name +'.csv', 'r') as f:\n",
    "        reader = csv.reader(f)\n",
    "        for row in reader:\n",
    "            if len(row) > 0:\n",
    "                posts.append(row[0])\n",
    "\n",
    "    classify = classifier()\n",
    "    positive_count = 0\n",
    "    negative_count = 0\n",
    "    for i in posts:\n",
    "        a = classify(i);\n",
    "        if( a == '1'):\n",
    "            positive_count += 1\n",
    "        else:\n",
    "            negative_count += 1\n",
    "    return [positive_count, negative_count]"
   ]
  },
  {
   "cell_type": "code",
   "execution_count": 17,
   "metadata": {
    "collapsed": false
   },
   "outputs": [],
   "source": [
    "trump_positive, trump_negative = classify_candidates('Trump')"
   ]
  },
  {
   "cell_type": "code",
   "execution_count": 18,
   "metadata": {
    "collapsed": false
   },
   "outputs": [],
   "source": [
    "bernie_positive, bernie_negative = classify_candidates('Bernie')"
   ]
  },
  {
   "cell_type": "code",
   "execution_count": 46,
   "metadata": {
    "collapsed": false
   },
   "outputs": [],
   "source": [
    "#listify sentiments\n",
    "bernie_pos_list = bernie_positive*[1]\n",
    "bernie_neg_list = bernie_negative*[0]\n",
    "bernie = bernie_neg_list + bernie_pos_list\n",
    "trump_pos_list = trump_positive*[1]\n",
    "trump_neg_list = trump_negative*[0]\n",
    "trump = trump_neg_list + trump_pos_list"
   ]
  },
  {
   "cell_type": "code",
   "execution_count": 115,
   "metadata": {
    "collapsed": false
   },
   "outputs": [
    {
     "data": {
      "text/plain": [
       "24"
      ]
     },
     "execution_count": 115,
     "metadata": {},
     "output_type": "execute_result"
    }
   ],
   "source": [
    "#take a random sample of 200 sentiment classifications\n",
    "final_bernie = [np.random.choice(bernie) for i in range(200)]\n",
    "final_trump = [np.random.choice(trump) for i in range(200)]\n",
    "observed_value = sum(final_trump) - sum(final_bernie)\n",
    "observed_value"
   ]
  },
  {
   "cell_type": "code",
   "execution_count": 99,
   "metadata": {
    "collapsed": false
   },
   "outputs": [
    {
     "data": {
      "text/plain": [
       "17"
      ]
     },
     "execution_count": 99,
     "metadata": {},
     "output_type": "execute_result"
    }
   ],
   "source": [
    "# use as a statistic the difference between the positive tweets for candidate 1 and the and the positive tweets for \n",
    "# candidate 2\n",
    "# in this case Trump - Sanders"
   ]
  },
  {
   "cell_type": "code",
   "execution_count": 116,
   "metadata": {
    "collapsed": false
   },
   "outputs": [
    {
     "data": {
      "text/plain": [
       "(array([    5.,    11.,    50.,    49.,   270.,   590.,  1395.,   937.,\n",
       "         2632.,  3247.,  3456.,  1565.,  2541.,  1676.,   932.,   240.,\n",
       "          288.,    93.,    19.,     4.]),\n",
       " array([-36. , -32.5, -29. , -25.5, -22. , -18.5, -15. , -11.5,  -8. ,\n",
       "         -4.5,  -1. ,   2.5,   6. ,   9.5,  13. ,  16.5,  20. ,  23.5,\n",
       "         27. ,  30.5,  34. ]),\n",
       " <a list of 20 Patch objects>)"
      ]
     },
     "execution_count": 116,
     "metadata": {},
     "output_type": "execute_result"
    },
    {
     "data": {
      "image/png": "[encoded data removed]",
      "text/plain": [
       "<matplotlib.figure.Figure at 0x7f6ba7601748>"
      ]
     },
     "metadata": {},
     "output_type": "display_data"
    }
   ],
   "source": [
    "def permutations(candidate1, candidate2):\n",
    "    table = Table(['candidates'])\n",
    "    #candidate 1 is 0 to 199, candidate 2 is 200 to 400\n",
    "    table['candidates'] = candidate1 + candidate2\n",
    "    statistic = []\n",
    "    for i in range(20000):\n",
    "        table = table.sample()\n",
    "        c1 = table['candidates'][:200]\n",
    "        c2 = table['candidates'][200:]\n",
    "        statistic.append(sum(c1) - sum(c2))\n",
    "    return statistic\n",
    "plt.hist(permutations(final_trump, final_bernie), bins = 20)"
   ]
  },
  {
   "cell_type": "code",
   "execution_count": 117,
   "metadata": {
    "collapsed": false
   },
   "outputs": [
    {
     "data": {
      "text/plain": [
       "0.0058999999999999999"
      ]
     },
     "execution_count": 117,
     "metadata": {},
     "output_type": "execute_result"
    }
   ],
   "source": [
    "def p_value(distribution, observed_value):\n",
    "    if observed_value < np.median(distribution):\n",
    "        return np.sum(np.count_nonzero(np.array(distribution) <= observed_value))/len(distribution)\n",
    "    else:\n",
    "        return np.sum(np.count_nonzero(np.array(distribution) >= observed_value))/len(distribution)\n",
    "p_value(permutations(final_trump, final_bernie), observed_value)"
   ]
  },
  {
   "cell_type": "code",
   "execution_count": null,
   "metadata": {
    "collapsed": true
   },
   "outputs": [],
   "source": []
  }
 ],
 "metadata": {
  "kernelspec": {
   "display_name": "Python 3",
   "language": "python",
   "name": "python3"
  },
  "language_info": {
   "codemirror_mode": {
    "name": "ipython",
    "version": 3
   },
   "file_extension": ".py",
   "mimetype": "text/x-python",
   "name": "python",
   "nbconvert_exporter": "python",
   "pygments_lexer": "ipython3",
   "version": "3.4.4"
  }
 },
 "nbformat": 4,
 "nbformat_minor": 0
}

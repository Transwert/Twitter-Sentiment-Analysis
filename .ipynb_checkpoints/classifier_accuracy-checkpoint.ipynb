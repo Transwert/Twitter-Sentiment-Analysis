{
 "cells": [
  {
   "cell_type": "code",
   "execution_count": 3,
   "metadata": {
    "collapsed": false
   },
   "outputs": [],
   "source": [
    "import csv\n",
    "from sentiment_analysis import classifier\n",
    "from matplotlib import pyplot as plt\n",
    "import random\n",
    "import codecs"
   ]
  },
  {
   "cell_type": "code",
   "execution_count": null,
   "metadata": {
    "collapsed": true
   },
   "outputs": [],
   "source": []
  },
  {
   "cell_type": "code",
   "execution_count": null,
   "metadata": {
    "collapsed": false
   },
   "outputs": [],
   "source": [
    "classify = classifier()"
   ]
  },
  {
   "cell_type": "code",
   "execution_count": null,
   "metadata": {
    "collapsed": false
   },
   "outputs": [],
   "source": [
    "def both_sets(reader):\n",
    "\t#cross_validation_size = 0.5 * total_size\n",
    "\t#probability = cross_validation_size/total_size\n",
    "\ttest_set = []\n",
    "\ttraining_data = []\n",
    "\ttotal_count = 0\n",
    "\ttest_count = 0\n",
    "\tfor row in reader:\n",
    "\t\t#if random.random() < 0.8:\n",
    "\t\tif random.random() < 0.5:\n",
    "\t\t\ttest_set.append(row)\n",
    "\t\t\ttest_count += 1\n",
    "\t\ttraining_data.append(row)\n",
    "\t\ttotal_count += 1\n",
    "\t\t\n",
    "\tprint(test_count)\n",
    "\treturn test_set, training_data, total_count, test_count\n",
    "\n",
    "percentage_list = []\n",
    "\n",
    "f = codecs.open('training_set_better.csv', encoding='utf-8', errors='replace')\n",
    "\n",
    "reader = csv.reader(f)\n",
    "\n",
    "\n",
    "percentage_list = []\n",
    "\n",
    "\n",
    "\n",
    "for i in range(0, 500):\n",
    "\treader = csv.reader(f)\n",
    "\ttest_set, training_data, total_count, test_count = both_sets(reader)\n",
    "\n",
    "\tcount_right = 0\n",
    "\n",
    "\tprint(total_count)\n",
    "\tif (test_count != 0):\n",
    "\n",
    "\t\tfor i in range(0, test_count):\n",
    "\t\t\tif (test_set[i][0] == classify(test_set[i][1])):\n",
    "\n",
    "\t\t\t\tcount_right += 1\n",
    "\n",
    "\t\tpercent_right = (count_right/test_count) * 100\n",
    "\t\tpercentage_list.append(percent_right)\n",
    "\n",
    "\tf.seek(0)\n",
    "print(percentage_list)\n",
    "plt.hist(percentage_list, bins = 20)\n",
    "plt.show()\n"
   ]
  },
  {
   "cell_type": "code",
   "execution_count": null,
   "metadata": {
    "collapsed": true
   },
   "outputs": [],
   "source": []
  },
  {
   "cell_type": "code",
   "execution_count": null,
   "metadata": {
    "collapsed": true
   },
   "outputs": [],
   "source": []
  }
 ],
 "metadata": {
  "kernelspec": {
   "display_name": "Python 3",
   "language": "python",
   "name": "python3"
  },
  "language_info": {
   "codemirror_mode": {
    "name": "ipython",
    "version": 3
   },
   "file_extension": ".py",
   "mimetype": "text/x-python",
   "name": "python",
   "nbconvert_exporter": "python",
   "pygments_lexer": "ipython3",
   "version": "3.4.4"
  }
 },
 "nbformat": 4,
 "nbformat_minor": 0
}
